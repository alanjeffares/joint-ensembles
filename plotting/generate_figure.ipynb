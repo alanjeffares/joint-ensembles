{
  "nbformat": 4,
  "nbformat_minor": 0,
  "metadata": {
    "colab": {
      "provenance": []
    },
    "kernelspec": {
      "name": "python3",
      "display_name": "Python 3"
    },
    "language_info": {
      "name": "python"
    }
  },
  "cells": [
    {
      "cell_type": "code",
      "source": [
        "import json\n",
        "import numpy as np\n",
        "import pandas as pd\n",
        "import matplotlib.pyplot as plt\n"
      ],
      "metadata": {
        "id": "d5uWM_T2-dqk"
      },
      "execution_count": null,
      "outputs": []
    },
    {
      "cell_type": "code",
      "source": [
        "def sem(data, sd=2):\n",
        "  \"Calculate standard error of mean\"\n",
        "  sem = np.std(data, ddof=1) / np.sqrt(np.size(data))\n",
        "  return sd * sem\n",
        "\n",
        "def get_statistic(results, stat, betas):\n",
        "  \"get mean and sem for a summary stat (test_acc_ens or test_ens_loss)\"\n",
        "  score_ens_mean_ls = []\n",
        "  score_ens_sem_ls = []\n",
        "\n",
        "  for beta in betas:\n",
        "      score_vals = results[results['beta'] == beta][stat].values\n",
        "      score_mean = score_vals.mean()\n",
        "      score_sem = sem(score_vals)\n",
        "      score_ens_mean_ls.append(score_mean)\n",
        "      score_ens_sem_ls.append(score_sem)\n",
        "\n",
        "  return score_ens_mean_ls, score_ens_sem_ls"
      ],
      "metadata": {
        "id": "K3FgiDzq_CZf"
      },
      "execution_count": null,
      "outputs": []
    },
    {
      "cell_type": "code",
      "source": [
        "# load an results file output from running experiments\n",
        "\n",
        "results_34_100 = pd.read_csv('CIFAR100_resnet34_results_loop_20230512_20 33 08.csv', index_col=0)\n"
      ],
      "metadata": {
        "id": "KrTSOlE_-aQ1"
      },
      "execution_count": null,
      "outputs": []
    },
    {
      "cell_type": "code",
      "execution_count": null,
      "metadata": {
        "id": "SYvNO9GV9-ii"
      },
      "outputs": [],
      "source": [
        "# this cell produces the plot of training dynamics (e.g. Fig 6 RHS)\n",
        "\n",
        "betas = [0, 0.2, 0.4, 0.6, 0.8, 1.0]\n",
        "\n",
        "score_mean, score_sem =  get_statistic(results_18_10, 'test_acc_ens', betas)\n",
        "\n",
        "green = plt.cm.Greens(0.2*(6/4) + 0.4)\n",
        "greenlight = plt.cm.Greens(0.4)\n",
        "blue = plt.cm.Blues(0.2*(6/4) + 0.4)\n",
        "bluelight = plt.cm.Blues(0.4)\n",
        "red = plt.cm.Reds(0.2*(6/4) + 0.4)\n",
        "\n",
        "\n",
        "MARKERSIZE = 6\n",
        "LINEWIDTH = 3\n",
        "SUBTITLESIZE = 20\n",
        "MEDIUM_SIZE = 18\n",
        "BIGGER_SIZE = 25\n",
        "LEGENDSIZE = 16\n",
        "\n",
        "def add_subplot(ax, results, color, lwd, stl, title=None, label=None):\n",
        "  ax.set_title('ImageNet', fontsize=SUBTITLESIZE)\n",
        "  ax.tick_params(axis='x', labelsize=MEDIUM_SIZE)\n",
        "  ax.tick_params(axis='y', labelsize=MEDIUM_SIZE)\n",
        "\n",
        "  ax.plot(results, color=color, linewidth=lwd,linestyle=stl, label=label)\n",
        "\n",
        "idx = 277\n",
        "\n",
        "fig, ax = plt.subplots(1, 2, figsize=(8,3.5))\n",
        "# figure level settings\n",
        "fig.text(0.5, -0.05, r'Training iteration', ha='center', size=BIGGER_SIZE)\n",
        "fig.text(-0.02, 0.5, 'Accuracy', va='center', rotation='vertical', size=BIGGER_SIZE)\n",
        "\n",
        "\n",
        "add_subplot(ax[0], val_acc_ens_0[:275], blue, LINEWIDTH, stl='-',label='Ensemble')\n",
        "for i in range(val_acc_ind_0.shape[1]):\n",
        "  add_subplot(ax[0], val_acc_ind_0[:275,i], bluelight, LINEWIDTH, stl='--', label=f'Base learner {i}')\n",
        "\n",
        "add_subplot(ax[1], val_acc_ens_1[:275], green, LINEWIDTH, stl='-',label= 'Ensemble')\n",
        "for i in range(val_acc_ind_1.shape[1]):\n",
        "  add_subplot(ax[1], val_acc_ind_1[:275,i], greenlight,  LINEWIDTH, stl='--', label=f'Base learner {i}')\n",
        "\n",
        "\n",
        "custom_lines = [Line2D([0], [0], color=blue, lw=4),\n",
        "                Line2D([0], [0], color=bluelight, linestyle=(0.1,(2,1)), lw=4),\n",
        "                Line2D([0], [0], color=green, lw=4),\n",
        "                Line2D([0], [0], color=greenlight, linestyle=(0.1,(2,1)), lw=4)]\n",
        "\n",
        "ax[0].legend(custom_lines, [r'Ensemble $\\beta=0$', r'Base learners $\\beta=0$',\n",
        "                            r'Ensemble $\\beta=1$', r'Base learners $\\beta=1$'], fontsize=LEGENDSIZE)\n",
        "ax[0].set_ylim(0,0.67)\n",
        "ax[1].set_ylim(0,0.67)\n",
        "\n",
        "fig.tight_layout()\n",
        "plt.savefig('imagenet_training.pdf', format='pdf', dpi=1200)\n",
        "plt.show()"
      ]
    },
    {
      "cell_type": "code",
      "source": [
        "# this cell produces the plot of interpolating over beta (e.g. Fig 6 LHS)\n",
        "\n",
        "betas = [0, 0.2, 0.4, 0.6, 0.8, 1.0]\n",
        "\n",
        "green = plt.cm.Greens(0.2*(6/4) + 0.4)\n",
        "blue = plt.cm.Blues(0.2*(6/4) + 0.4)\n",
        "red = plt.cm.Reds(0.2*(6/4) + 0.4)\n",
        "\n",
        "MARKERSIZE = 6\n",
        "LINEWIDTH = 2.5\n",
        "SUBTITLESIZE = 20\n",
        "MEDIUM_SIZE = 18\n",
        "BIGGER_SIZE = 25\n",
        "\n",
        "def add_subplot(ax, results, color, title=None):\n",
        "  score_mean, score_sem =  get_statistic(results, 'test_acc_ens', betas)\n",
        "  if title is not None:\n",
        "    ax.set_title(title, fontsize=SUBTITLESIZE)\n",
        "  ax.tick_params(axis='x', labelsize=MEDIUM_SIZE)\n",
        "  ax.tick_params(axis='y', labelsize=MEDIUM_SIZE)\n",
        "\n",
        "  ax.plot(betas, score_mean, color=color, linewidth=LINEWIDTH, marker='o', ms=MARKERSIZE)\n",
        "  upper = [m + s for m, s in zip(score_mean, score_sem)]\n",
        "  lower = [m - s for m, s in zip(score_mean, score_sem)]\n",
        "\n",
        "  ax.fill_between(betas, upper, lower, color=color,\n",
        "                        alpha=0.25)\n",
        "\n",
        "\n",
        "fig, ax = plt.subplots(1, 2, figsize=(8,3.5))\n",
        "# figure level settings\n",
        "fig.text(0.5, -0.05, r'Level of diversity $\\beta$', ha='center', size=BIGGER_SIZE)\n",
        "fig.text(-0.02, 0.5, 'Accuracy', va='center', rotation='vertical', size=BIGGER_SIZE)\n",
        "\n",
        "# add the subplots\n",
        "add_subplot(ax[0], results_18_10, blue, 'CIFAR-10')\n",
        "add_subplot(ax[0], results_34_10, green)\n",
        "add_subplot(ax[1], results_18_100, blue, 'CIFAR-100')\n",
        "add_subplot(ax[1], results_34_100, green)\n",
        "\n",
        "custom_lines = [Line2D([0], [0], color=blue, lw=4),\n",
        "                Line2D([0], [0], color=green, lw=4)]\n",
        "\n",
        "ax[0].legend(custom_lines, ['ResNet-18', 'ResNet-34'], fontsize=SUBTITLESIZE)\n",
        "\n",
        "fig.tight_layout()\n",
        "plt.savefig('interpolating_beta.pdf', format='pdf', dpi=1200)\n",
        "plt.show()"
      ],
      "metadata": {
        "id": "nUG6-rBL-G5-"
      },
      "execution_count": null,
      "outputs": []
    }
  ]
}